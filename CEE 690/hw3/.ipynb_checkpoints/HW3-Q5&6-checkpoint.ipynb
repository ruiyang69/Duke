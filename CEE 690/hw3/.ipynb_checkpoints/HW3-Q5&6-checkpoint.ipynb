{
 "cells": [
  {
   "cell_type": "code",
   "execution_count": 11,
   "metadata": {},
   "outputs": [],
   "source": [
    "from __future__ import division, print_function, unicode_literals\n",
    "import numpy as np\n",
    "import pandas as pd\n",
    "import warnings\n",
    "warnings.filterwarnings('ignore')\n",
    "\n",
    "np.random.seed(42)\n",
    "\n",
    "import matplotlib.pyplot as plt\n",
    "%matplotlib inline \n",
    "plt.rcParams['axes.labelsize'] = 14\n",
    "plt.rcParams['xtick.labelsize'] = 12\n",
    "plt.rcParams['ytick.labelsize'] = 12\n",
    "\n",
    "from sklearn import model_selection\n",
    "from sklearn import neighbors\n",
    "from sklearn import datasets\n",
    "from sklearn import preprocessing\n",
    "from sklearn import pipeline\n",
    "from sklearn import linear_model\n",
    "from sklearn.metrics import mean_squared_error\n",
    "from sklearn.metrics import accuracy_score\n",
    "from sklearn import feature_selection\n",
    "from sklearn import metrics\n",
    "from sklearn.datasets import load_iris\n",
    "from sklearn import cluster\n",
    "from sklearn import svm\n",
    "from sklearn import decomposition"
   ]
  },
  {
   "cell_type": "code",
   "execution_count": 12,
   "metadata": {},
   "outputs": [],
   "source": [
    "X = pd.read_csv('hw3_problem_5_X.csv')\n",
    "X = np.array(X.values[:,1:],dtype=np.float64)\n",
    "\n",
    "y = pd.read_csv('hw3_problem_5_y.csv')\n",
    "y = np.array(y.values[:,1:],dtype=np.float64)\n",
    "\n",
    "X_blind = pd.read_csv('hw3_problem_5_X_blind.csv')\n",
    "X_blind = np.array(X_blind.values[:,1:],dtype=np.float64)"
   ]
  },
  {
   "cell_type": "code",
   "execution_count": 18,
   "metadata": {},
   "outputs": [
    {
     "data": {
      "image/png": "[encoded data removed]",
      "text/plain": [
       "<Figure size 432x288 with 1 Axes>"
      ]
     },
     "metadata": {
      "needs_background": "light"
     },
     "output_type": "display_data"
    }
   ],
   "source": [
    "pca=decomposition.PCA(n_components=200)\n",
    "pca.fit(X)\n",
    "components=pca.components_\n",
    "var = pca.explained_variance_ratio_\n",
    "plt.plot(np.arange(1,201), np.cumsum(var))\n",
    "plt.xlabel('number of components')\n",
    "plt.ylabel('cumulative explained variace ratio')\n",
    "plt.show()"
   ]
  },
  {
   "cell_type": "markdown",
   "metadata": {},
   "source": [
    "According to Elbow's method, I would choose n_components = 100 in this case, for it is the point where the cumulative explained variance ratio reaches 80%."
   ]
  },
  {
   "cell_type": "code",
   "execution_count": 21,
   "metadata": {},
   "outputs": [
    {
     "name": "stdout",
     "output_type": "stream",
     "text": [
      "{'svm__C': 0.001, 'svm__gamma': 0.001}\n",
      "0.6104277180406212\n"
     ]
    }
   ],
   "source": [
    "from sklearn.model_selection import GridSearchCV\n",
    "pca = decomposition.PCA(n_components = 100)\n",
    "svc = svm.SVC()\n",
    "pipe=pipeline.Pipeline([('pca',pca), ('svm',svc)])\n",
    "\n",
    "\n",
    "param_grid = {'C': (0.0001, 0.001, 0.01, 0.1, 1, 10, 100, 1000),\n",
    "        'gamma': (0.001, 0.01, 0.1, 1, 10, 100, 1000, 10000)}\n",
    "result = GridSearchCV(pipe, param_grid, scoring='roc_auc')\n",
    "result = result.fit(X, y)\n",
    "print(result.best_params_)\n",
    "print(result.best_score_)"
   ]
  },
  {
   "cell_type": "code",
   "execution_count": 24,
   "metadata": {},
   "outputs": [],
   "source": [
    "pca = decomposition.PCA(n_components = 100)\n",
    "svc = svm.SVC(gamma = 0.001, C = 0.001)\n",
    "pipe = pipeline.Pipeline([('pca',pca), ('svm',svc)])\n",
    "pipe.fit(X,y)\n",
    "y_blind_pred = pipe.predict(X_blind)\n",
    "\n",
    "y_blind_pre = pd.DataFrame(y_blind_pred)\n",
    "y_blind_pre.to_csv('./hw3_problem_5_y_blind_predict_thumb.csv')"
   ]
  },
  {
   "cell_type": "code",
   "execution_count": 38,
   "metadata": {},
   "outputs": [
    {
     "name": "stdout",
     "output_type": "stream",
     "text": [
      "{'svm__C': 0.001, 'svm__gamma': 0.001}\n",
      "0.6104277180406212\n"
     ]
    }
   ],
   "source": [
    "pca = decomposition.PCA(n_components = 100)\n",
    "svc = svm.SVC()\n",
    "pipe=pipeline.Pipeline([('pca',pca), ('svm',svc)])\n",
    "\n",
    "\n",
    "param_ = {'n_components': [1,100],\n",
    "        'gamma': [0.00001, 5000]\n",
    "         }\n",
    "result = GridSearchCV(pipe, param_grid, scoring='roc_auc')\n",
    "result = result.fit(X, y)\n",
    "print(result.best_params_)\n",
    "print(result.best_score_)"
   ]
  },
  {
   "cell_type": "code",
   "execution_count": null,
   "metadata": {},
   "outputs": [],
   "source": []
  }
 ],
 "metadata": {
  "kernelspec": {
   "display_name": "Python 3",
   "language": "python",
   "name": "python3"
  },
  "language_info": {
   "codemirror_mode": {
    "name": "ipython",
    "version": 3
   },
   "file_extension": ".py",
   "mimetype": "text/x-python",
   "name": "python",
   "nbconvert_exporter": "python",
   "pygments_lexer": "ipython3",
   "version": "3.7.4"
  }
 },
 "nbformat": 4,
 "nbformat_minor": 2
}
