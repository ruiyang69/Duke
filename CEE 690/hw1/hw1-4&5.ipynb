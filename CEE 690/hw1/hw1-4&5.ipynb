{
 "cells": [
  {
   "cell_type": "code",
   "execution_count": 2,
   "metadata": {},
   "outputs": [
    {
     "name": "stdout",
     "output_type": "stream",
     "text": [
      "Figure directory didn't exist, creating now.\n"
     ]
    }
   ],
   "source": [
    "import numpy as np\n",
    "\n",
    "np.random.seed(42)\n",
    "\n",
    "import matplotlib.pyplot as plt\n",
    "%matplotlib inline \n",
    "# This command figures show up in the notebook.  It's a \"magic\" command...\n",
    "# Typically, this now happens by default so it is often an unnecessary command, but is good for standardization.\n",
    "plt.rcParams['axes.labelsize'] = 14\n",
    "plt.rcParams['xtick.labelsize'] = 12\n",
    "plt.rcParams['ytick.labelsize'] = 12\n",
    "\n",
    "PROJECT_ROOT_DIR = \".\"\n",
    "PROJECT_SAVE_DIR = \"hw1\"\n",
    "\n",
    "import os\n",
    "if not (os.path.isdir(PROJECT_ROOT_DIR+'/'+PROJECT_SAVE_DIR)):\n",
    "    print('Figure directory didn\\'t exist, creating now.')\n",
    "    os.mkdir(PROJECT_ROOT_DIR+'/'+PROJECT_SAVE_DIR)\n",
    "else:\n",
    "    print('Figure directory exists.') \n",
    "    \n",
    "def savepdf(fig,name):\n",
    "    fig.savefig(PROJECT_ROOT_DIR+'/'+PROJECT_SAVE_DIR+'/'+name+'.pdf')\n",
    "    \n",
    "import pandas as pd\n",
    "import matplotlib.pyplot as plt\n",
    "from sklearn.linear_model import LogisticRegression\n",
    "from sklearn.neighbors import KNeighborsRegressor\n",
    "from sklearn.metrics import mean_squared_error\n",
    "from sklearn.neighbors import KNeighborsClassifier"
   ]
  },
  {
   "cell_type": "code",
   "execution_count": 3,
   "metadata": {},
   "outputs": [],
   "source": [
    "def do_knn(x_train, y_train, x_valid, y_valid):\n",
    "    best_accuracy = 0\n",
    "    k_best = 1\n",
    "    for k in range(1, 30):\n",
    "        knn_model=KNeighborsClassifier(k)\n",
    "        knn_model.fit(x_train,y_train)\n",
    "        cur_score = knn_model.score(x_valid, y_valid)\n",
    "\n",
    "        if  cur_score > best_accuracy :\n",
    "            best_accuracy = cur_score\n",
    "            k_best = k\n",
    "    best_valid_error = round(1-best_accuracy, 3)\n",
    "    print( \"the best KNN validation error is \" + str(best_valid_error) + \" (when k = \" + str(k_best) + \")\")\n",
    "    return best_valid_error, k_best"
   ]
  },
  {
   "cell_type": "markdown",
   "metadata": {},
   "source": [
    "The 1st dataset"
   ]
  },
  {
   "cell_type": "code",
   "execution_count": 4,
   "metadata": {},
   "outputs": [
    {
     "name": "stdout",
     "output_type": "stream",
     "text": [
      "the best KNN validation error is 0.467 (when k = 4)\n",
      "the best KNN validation error is 0.4 (when k = 22)\n",
      "the best KNN validation error is 0.433 (when k = 4)\n",
      "the best KNN validation error is 0.383 (when k = 4)\n",
      "the best KNN validation error is 0.433 (when k = 2)\n"
     ]
    }
   ],
   "source": [
    "# Here is a function that generates data of students taking a test.  It's just like the real thing!\n",
    "def generate_students_pass_fail(n=300,pass_line=75,random_seed=42):\n",
    "    def sigmoid(x):\n",
    "        return 1./(1.+np.exp(-x))\n",
    "    # Generates noisy data along curved line.\n",
    "    # The curve is non-linear and the noise/variance is heteroskedastic and non-gaussian, so it breaks\n",
    "    # pretty much all classical statistical model assumptions.  It's both pretty fun and kind of \n",
    "    # disturbing how easy it is to do that.\n",
    "    np.random.seed(random_seed)\n",
    "    x = 6*np.random.rand(n, 1)\n",
    "    x = np.sort(x,axis=0)\n",
    "    score = 100* sigmoid(-2+x+.4*np.random.randn(n,1))+5*np.random.randn(n,1)\n",
    "    y=score>pass_line\n",
    "    y=y.reshape(-1)\n",
    "    return x,y\n",
    "\n",
    "x,y = generate_students_pass_fail()\n",
    "np.random.shuffle(x)\n",
    "np.random.shuffle(y)\n",
    "\n",
    "\n",
    "for i in range(0,5):\n",
    "    x_valid = list(x[i*60:i*60+60])\n",
    "    y_valid = list(y[i*60:i*60+60])\n",
    "    x_train = list(x[:i*60])+ list(x[i*60+60:])\n",
    "    y_train = list(y[:i*60]) + list(y[i*60+60:])\n",
    "    do_knn(x_train, y_train, x_valid, y_valid)"
   ]
  },
  {
   "cell_type": "code",
   "execution_count": 5,
   "metadata": {},
   "outputs": [
    {
     "name": "stdout",
     "output_type": "stream",
     "text": [
      "the best KNN validation error is 0.407 (when k = 2)\n",
      "the best KNN validation error is 0.479 (when k = 8)\n",
      "the best KNN validation error is 0.479 (when k = 23)\n",
      "the best KNN validation error is 0.421 (when k = 5)\n",
      "the best KNN validation error is 0.436 (when k = 25)\n"
     ]
    }
   ],
   "source": [
    "from sklearn.datasets import make_circles\n",
    "x,y=make_circles(n_samples= 700,shuffle=False,noise=.08,random_state=42)\n",
    "\n",
    "np.random.shuffle(x)\n",
    "np.random.shuffle(y)\n",
    "\n",
    "\n",
    "for i in range(0,5):\n",
    "    x_valid = list(x[i*140:i*140+140])\n",
    "    y_valid = list(y[i*140:i*140+140])\n",
    "    x_train = list(x[:i*140])+ list(x[i*140+140:])\n",
    "    y_train = list(y[:i*140]) + list(y[i*140+140:])\n",
    "    do_knn(x_train, y_train, x_valid, y_valid)"
   ]
  },
  {
   "cell_type": "markdown",
   "metadata": {},
   "source": [
    "The third dataset"
   ]
  },
  {
   "cell_type": "code",
   "execution_count": 6,
   "metadata": {},
   "outputs": [
    {
     "name": "stdout",
     "output_type": "stream",
     "text": [
      "the best KNN validation error is 0.417 (when k = 4)\n",
      "the best KNN validation error is 0.433 (when k = 11)\n",
      "the best KNN validation error is 0.4 (when k = 25)\n",
      "the best KNN validation error is 0.4 (when k = 19)\n",
      "the best KNN validation error is 0.433 (when k = 5)\n"
     ]
    }
   ],
   "source": [
    "from sklearn.datasets import make_moons\n",
    "x,y=make_moons(n_samples=300,noise=.75,random_state=42)\n",
    "\n",
    "np.random.shuffle(x)\n",
    "np.random.shuffle(y)\n",
    "\n",
    "\n",
    "for i in range(0,5):\n",
    "    x_valid = list(x[i*60:i*60+60])\n",
    "    y_valid = list(y[i*60:i*60+60])\n",
    "    x_train = list(x[:i*60])+ list(x[i*60+60:])\n",
    "    y_train = list(y[:i*60]) + list(y[i*60+60:])\n",
    "    do_knn(x_train, y_train, x_valid, y_valid)\n"
   ]
  },
  {
   "cell_type": "markdown",
   "metadata": {},
   "source": [
    "For the first dataset, best_k is relatively stable, around 2-4. However, for the second and third dataset, the k varies a lot. I think this might be due to the noise and scale of data separations as the noise is added. But for these kind of chaotic dataset, the k should be small as we do not want to take many neighbors into considerations."
   ]
  },
  {
   "cell_type": "markdown",
   "metadata": {},
   "source": [
    "Question 5:\n",
    "\n",
    "(a) around 20 hours\n",
    "(b) I adhered to the Duke Community Standard in the completion of this assignment."
   ]
  },
  {
   "cell_type": "code",
   "execution_count": null,
   "metadata": {},
   "outputs": [],
   "source": []
  }
 ],
 "metadata": {
  "kernelspec": {
   "display_name": "Python 3",
   "language": "python",
   "name": "python3"
  },
  "language_info": {
   "codemirror_mode": {
    "name": "ipython",
    "version": 3
   },
   "file_extension": ".py",
   "mimetype": "text/x-python",
   "name": "python",
   "nbconvert_exporter": "python",
   "pygments_lexer": "ipython3",
   "version": "3.7.4"
  }
 },
 "nbformat": 4,
 "nbformat_minor": 2
}
